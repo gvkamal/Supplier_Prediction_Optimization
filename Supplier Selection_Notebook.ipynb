{
 "cells": [
  {
   "cell_type": "code",
   "execution_count": 1,
   "metadata": {},
   "outputs": [],
   "source": [
    "import pandas as pd\n",
    "import pulp as p"
   ]
  },
  {
   "cell_type": "code",
   "execution_count": 2,
   "metadata": {},
   "outputs": [
    {
     "name": "stdout",
     "output_type": "stream",
     "text": [
      "   Supplier_ID Abbreviation  Quoted_Price  Quality  Delivery  Service\n",
      "0          MRF          MRF          4500        3         4        4\n",
      "1      JK Tyre           JK          5000        5         4        4\n",
      "2    Good Year           GY          4300        4         3        4\n",
      "3  Bridgestone           BS          4650        4         4        3\n",
      "4     Michelin           MC          4650        4         3        4\n",
      "5  Continental           CN          4800        4         4        4\n",
      "SupplierSelection:\n",
      "MINIMIZE\n",
      "None\n",
      "VARIABLES\n",
      "\n"
     ]
    }
   ],
   "source": [
    "# Expected Variables\n",
    "exp_price = 4700 #int( input(\"Enter Price : \"))\n",
    "exp_quality = 8 #int( input(\"Enter Quality : \") )\n",
    "exp_delivery = 9 #int( input(\"Enter Delivery : \") )\n",
    "exp_service = 8 #int( input(\"Enter Service : \") )\n",
    "\n",
    "# Read Supplier Data\n",
    "df = pd.read_csv(\"Supplier_Data.csv\")\n",
    "print(df)\n",
    "\n",
    "# Create LP minimization problem\n",
    "problem = p.LpProblem('SupplierSelection', p.LpMinimize)\n",
    "print(problem)"
   ]
  },
  {
   "cell_type": "code",
   "execution_count": 3,
   "metadata": {},
   "outputs": [
    {
     "name": "stdout",
     "output_type": "stream",
     "text": [
      "{'MRF': __MRF, 'JK Tyre': __JK_Tyre, 'Good Year': __Good_Year, 'Bridgestone': __Bridgestone, 'Michelin': __Michelin, 'Continental': __Continental}\n"
     ]
    }
   ],
   "source": [
    "# Create Problem Variables\n",
    "suplrs = p.LpVariable.dicts(\"_\", df['Supplier_ID'], cat='Binary')\n",
    "print(suplrs)"
   ]
  },
  {
   "cell_type": "code",
   "execution_count": 4,
   "metadata": {},
   "outputs": [
    {
     "name": "stdout",
     "output_type": "stream",
     "text": [
      "SupplierSelection:\n",
      "MINIMIZE\n",
      "4650*__Bridgestone + 4800*__Continental + 4300*__Good_Year + 5000*__JK_Tyre + 4500*__MRF + 4650*__Michelin + 0\n",
      "VARIABLES\n",
      "0 <= __Bridgestone <= 1 Integer\n",
      "0 <= __Continental <= 1 Integer\n",
      "0 <= __Good_Year <= 1 Integer\n",
      "0 <= __JK_Tyre <= 1 Integer\n",
      "0 <= __MRF <= 1 Integer\n",
      "0 <= __Michelin <= 1 Integer\n",
      "\n"
     ]
    }
   ],
   "source": [
    "# Objective Function\n",
    "# Example: 4500*S1+5000*S2+4300*S3+4600*S4+4650*S5\n",
    "problem += p.lpSum(suplrs[df['Supplier_ID'][i]] * df['Quoted_Price'][i] for i in range(df['Supplier_ID'].count()))\n",
    "print(problem)"
   ]
  },
  {
   "cell_type": "code",
   "execution_count": 5,
   "metadata": {},
   "outputs": [
    {
     "name": "stdout",
     "output_type": "stream",
     "text": [
      "SupplierSelection:\n",
      "MINIMIZE\n",
      "4650*__Bridgestone + 4800*__Continental + 4300*__Good_Year + 5000*__JK_Tyre + 4500*__MRF + 4650*__Michelin + 0\n",
      "SUBJECT TO\n",
      "_C1: __Bridgestone + __Continental + __Good_Year + __JK_Tyre + __MRF\n",
      " + __Michelin = 1\n",
      "\n",
      "VARIABLES\n",
      "0 <= __Bridgestone <= 1 Integer\n",
      "0 <= __Continental <= 1 Integer\n",
      "0 <= __Good_Year <= 1 Integer\n",
      "0 <= __JK_Tyre <= 1 Integer\n",
      "0 <= __MRF <= 1 Integer\n",
      "0 <= __Michelin <= 1 Integer\n",
      "\n"
     ]
    }
   ],
   "source": [
    "# Constraints\n",
    "#1 #Example: S1+S2+S3+S4+S5 = 1 \n",
    "problem += p.lpSum(suplrs[df['Supplier_ID'][i]] for i in range(df['Supplier_ID'].count())) == 1\n",
    "print(problem)"
   ]
  },
  {
   "cell_type": "code",
   "execution_count": 6,
   "metadata": {},
   "outputs": [
    {
     "name": "stdout",
     "output_type": "stream",
     "text": [
      "SupplierSelection:\n",
      "MINIMIZE\n",
      "4650*__Bridgestone + 4800*__Continental + 4300*__Good_Year + 5000*__JK_Tyre + 4500*__MRF + 4650*__Michelin + 0\n",
      "SUBJECT TO\n",
      "_C1: __Bridgestone + __Continental + __Good_Year + __JK_Tyre + __MRF\n",
      " + __Michelin = 1\n",
      "\n",
      "_C2: 4650 __Bridgestone + 4800 __Continental + 4300 __Good_Year\n",
      " + 5000 __JK_Tyre + 4500 __MRF + 4650 __Michelin <= 4700\n",
      "\n",
      "VARIABLES\n",
      "0 <= __Bridgestone <= 1 Integer\n",
      "0 <= __Continental <= 1 Integer\n",
      "0 <= __Good_Year <= 1 Integer\n",
      "0 <= __JK_Tyre <= 1 Integer\n",
      "0 <= __MRF <= 1 Integer\n",
      "0 <= __Michelin <= 1 Integer\n",
      "\n"
     ]
    }
   ],
   "source": [
    "#2 # Example: 4500*S1+5000*S2+4300*S3+4600*S4+4650*S5 <= 4700\n",
    "problem += p.lpSum(suplrs[df['Supplier_ID'][i]] * df['Quoted_Price'][i] for i in range(df['Supplier_ID'].count())) <= exp_price\n",
    "print(problem)"
   ]
  },
  {
   "cell_type": "code",
   "execution_count": 7,
   "metadata": {},
   "outputs": [
    {
     "name": "stdout",
     "output_type": "stream",
     "text": [
      "SupplierSelection:\n",
      "MINIMIZE\n",
      "4650*__Bridgestone + 4800*__Continental + 4300*__Good_Year + 5000*__JK_Tyre + 4500*__MRF + 4650*__Michelin + 0\n",
      "SUBJECT TO\n",
      "_C1: __Bridgestone + __Continental + __Good_Year + __JK_Tyre + __MRF\n",
      " + __Michelin = 1\n",
      "\n",
      "_C2: 4650 __Bridgestone + 4800 __Continental + 4300 __Good_Year\n",
      " + 5000 __JK_Tyre + 4500 __MRF + 4650 __Michelin <= 4700\n",
      "\n",
      "_C3: 4 __Bridgestone + 4 __Continental + 4 __Good_Year + 5 __JK_Tyre + 3 __MRF\n",
      " + 4 __Michelin >= 8\n",
      "\n",
      "VARIABLES\n",
      "0 <= __Bridgestone <= 1 Integer\n",
      "0 <= __Continental <= 1 Integer\n",
      "0 <= __Good_Year <= 1 Integer\n",
      "0 <= __JK_Tyre <= 1 Integer\n",
      "0 <= __MRF <= 1 Integer\n",
      "0 <= __Michelin <= 1 Integer\n",
      "\n"
     ]
    }
   ],
   "source": [
    "#3 For Quality\n",
    "problem += p.lpSum(suplrs[df['Supplier_ID'][i]] * df['Quality'][i] for i in range(df['Supplier_ID'].count())) >= exp_quality\n",
    "print(problem)"
   ]
  },
  {
   "cell_type": "code",
   "execution_count": 8,
   "metadata": {},
   "outputs": [
    {
     "name": "stdout",
     "output_type": "stream",
     "text": [
      "SupplierSelection:\n",
      "MINIMIZE\n",
      "4650*__Bridgestone + 4800*__Continental + 4300*__Good_Year + 5000*__JK_Tyre + 4500*__MRF + 4650*__Michelin + 0\n",
      "SUBJECT TO\n",
      "_C1: __Bridgestone + __Continental + __Good_Year + __JK_Tyre + __MRF\n",
      " + __Michelin = 1\n",
      "\n",
      "_C2: 4650 __Bridgestone + 4800 __Continental + 4300 __Good_Year\n",
      " + 5000 __JK_Tyre + 4500 __MRF + 4650 __Michelin <= 4700\n",
      "\n",
      "_C3: 4 __Bridgestone + 4 __Continental + 4 __Good_Year + 5 __JK_Tyre + 3 __MRF\n",
      " + 4 __Michelin >= 8\n",
      "\n",
      "_C4: 4 __Bridgestone + 4 __Continental + 3 __Good_Year + 4 __JK_Tyre + 4 __MRF\n",
      " + 3 __Michelin >= 9\n",
      "\n",
      "VARIABLES\n",
      "0 <= __Bridgestone <= 1 Integer\n",
      "0 <= __Continental <= 1 Integer\n",
      "0 <= __Good_Year <= 1 Integer\n",
      "0 <= __JK_Tyre <= 1 Integer\n",
      "0 <= __MRF <= 1 Integer\n",
      "0 <= __Michelin <= 1 Integer\n",
      "\n"
     ]
    }
   ],
   "source": [
    "#4 For Delivery\n",
    "problem += p.lpSum(suplrs[df['Supplier_ID'][i]] * df['Delivery'][i] for i in range(df['Supplier_ID'].count())) >= exp_delivery\n",
    "print(problem)"
   ]
  },
  {
   "cell_type": "code",
   "execution_count": 9,
   "metadata": {},
   "outputs": [
    {
     "name": "stdout",
     "output_type": "stream",
     "text": [
      "SupplierSelection:\n",
      "MINIMIZE\n",
      "4650*__Bridgestone + 4800*__Continental + 4300*__Good_Year + 5000*__JK_Tyre + 4500*__MRF + 4650*__Michelin + 0\n",
      "SUBJECT TO\n",
      "_C1: __Bridgestone + __Continental + __Good_Year + __JK_Tyre + __MRF\n",
      " + __Michelin = 1\n",
      "\n",
      "_C2: 4650 __Bridgestone + 4800 __Continental + 4300 __Good_Year\n",
      " + 5000 __JK_Tyre + 4500 __MRF + 4650 __Michelin <= 4700\n",
      "\n",
      "_C3: 4 __Bridgestone + 4 __Continental + 4 __Good_Year + 5 __JK_Tyre + 3 __MRF\n",
      " + 4 __Michelin >= 8\n",
      "\n",
      "_C4: 4 __Bridgestone + 4 __Continental + 3 __Good_Year + 4 __JK_Tyre + 4 __MRF\n",
      " + 3 __Michelin >= 9\n",
      "\n",
      "_C5: 3 __Bridgestone + 4 __Continental + 4 __Good_Year + 4 __JK_Tyre + 4 __MRF\n",
      " + 4 __Michelin >= 8\n",
      "\n",
      "VARIABLES\n",
      "0 <= __Bridgestone <= 1 Integer\n",
      "0 <= __Continental <= 1 Integer\n",
      "0 <= __Good_Year <= 1 Integer\n",
      "0 <= __JK_Tyre <= 1 Integer\n",
      "0 <= __MRF <= 1 Integer\n",
      "0 <= __Michelin <= 1 Integer\n",
      "\n"
     ]
    }
   ],
   "source": [
    "#5 For Service\n",
    "problem += p.lpSum(suplrs[df['Supplier_ID'][i]] * df['Service'][i] for i in range(df['Supplier_ID'].count())) >= exp_service\n",
    "print(problem)"
   ]
  },
  {
   "cell_type": "code",
   "execution_count": 10,
   "metadata": {},
   "outputs": [
    {
     "name": "stdout",
     "output_type": "stream",
     "text": [
      "Status: Infeasible\n",
      "__Bridgestone = 1.0\n",
      "__Continental = 0.25\n",
      "__MRF = 1.0\n",
      "Quoted Price :  10350.0\n"
     ]
    }
   ],
   "source": [
    "# Solve problem\n",
    "problem.solve()\n",
    "\n",
    "# Print status\n",
    "print(\"Status:\", p.LpStatus[problem.status])\n",
    "\n",
    "# Print optimal values of decision variables\n",
    "for v in problem.variables():\n",
    "    if v.varValue is not None and v.varValue > 0:\n",
    "        print(v.name, \"=\", v.varValue)\n",
    "        \n",
    "print(\"Quoted Price : \", p.value(problem.objective))"
   ]
  },
  {
   "cell_type": "code",
   "execution_count": null,
   "metadata": {},
   "outputs": [],
   "source": []
  }
 ],
 "metadata": {
  "kernelspec": {
   "display_name": "Python 3",
   "language": "python",
   "name": "python3"
  },
  "language_info": {
   "codemirror_mode": {
    "name": "ipython",
    "version": 3
   },
   "file_extension": ".py",
   "mimetype": "text/x-python",
   "name": "python",
   "nbconvert_exporter": "python",
   "pygments_lexer": "ipython3",
   "version": "3.6.8"
  }
 },
 "nbformat": 4,
 "nbformat_minor": 5
}
