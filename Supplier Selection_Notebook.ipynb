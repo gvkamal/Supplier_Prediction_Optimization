{
 "cells": [
  {
   "cell_type": "code",
   "execution_count": 1,
   "metadata": {},
   "outputs": [],
   "source": [
    "import pandas as pd\n",
    "import pulp as p"
   ]
  },
  {
   "cell_type": "code",
   "execution_count": 7,
   "metadata": {},
   "outputs": [
    {
     "name": "stdout",
     "output_type": "stream",
     "text": [
      "  Supplier_ID  Quoted_Price  Quality  Delivery  Service\n",
      "0          S1          4500        8         9        8\n",
      "1          S2          5000        9         8       10\n",
      "2          S3          4300        9         8        9\n",
      "3          S4          4600        8         9        8\n",
      "4          S5          4650       10         9        8\n",
      "SupplierSelection:\n",
      "MINIMIZE\n",
      "None\n",
      "VARIABLES\n",
      "\n"
     ]
    }
   ],
   "source": [
    "# Expected Variables\n",
    "exp_price = 4700 #int( input(\"Enter Price : \"))\n",
    "exp_quality = 8 #int( input(\"Enter Quality : \") )\n",
    "exp_delivery = 9 #int( input(\"Enter Delivery : \") )\n",
    "exp_service = 8 #int( input(\"Enter Service : \") )\n",
    "\n",
    "# Read Supplier Data\n",
    "df = pd.read_csv(\"Supplier_Data.csv\")\n",
    "print(df)\n",
    "\n",
    "# Create LP minimization problem\n",
    "problem = p.LpProblem('SupplierSelection', p.LpMinimize)\n",
    "print(problem)"
   ]
  },
  {
   "cell_type": "code",
   "execution_count": 8,
   "metadata": {},
   "outputs": [
    {
     "name": "stdout",
     "output_type": "stream",
     "text": [
      "{'S1': Supplier_S1, 'S2': Supplier_S2, 'S3': Supplier_S3, 'S4': Supplier_S4, 'S5': Supplier_S5}\n"
     ]
    }
   ],
   "source": [
    "# Create Problem Variables\n",
    "suplrs = p.LpVariable.dicts(\"Supplier\", df['Supplier_ID'], cat='Binary')\n",
    "print(suplrs)"
   ]
  },
  {
   "cell_type": "code",
   "execution_count": 9,
   "metadata": {},
   "outputs": [
    {
     "name": "stdout",
     "output_type": "stream",
     "text": [
      "SupplierSelection:\n",
      "MINIMIZE\n",
      "4500*Supplier_S1 + 5000*Supplier_S2 + 4300*Supplier_S3 + 4600*Supplier_S4 + 4650*Supplier_S5 + 0\n",
      "VARIABLES\n",
      "0 <= Supplier_S1 <= 1 Integer\n",
      "0 <= Supplier_S2 <= 1 Integer\n",
      "0 <= Supplier_S3 <= 1 Integer\n",
      "0 <= Supplier_S4 <= 1 Integer\n",
      "0 <= Supplier_S5 <= 1 Integer\n",
      "\n"
     ]
    }
   ],
   "source": [
    "# Objective Function\n",
    "# Example: 4500*S1+5000*S2+4300*S3+4600*S4+4650*S5\n",
    "problem += p.lpSum(suplrs[df['Supplier_ID'][i]] * df['Quoted_Price'][i] for i in range(df['Supplier_ID'].count()))\n",
    "print(problem)"
   ]
  },
  {
   "cell_type": "code",
   "execution_count": 10,
   "metadata": {},
   "outputs": [
    {
     "name": "stdout",
     "output_type": "stream",
     "text": [
      "SupplierSelection:\n",
      "MINIMIZE\n",
      "4500*Supplier_S1 + 5000*Supplier_S2 + 4300*Supplier_S3 + 4600*Supplier_S4 + 4650*Supplier_S5 + 0\n",
      "SUBJECT TO\n",
      "_C1: Supplier_S1 + Supplier_S2 + Supplier_S3 + Supplier_S4 + Supplier_S5 = 1\n",
      "\n",
      "VARIABLES\n",
      "0 <= Supplier_S1 <= 1 Integer\n",
      "0 <= Supplier_S2 <= 1 Integer\n",
      "0 <= Supplier_S3 <= 1 Integer\n",
      "0 <= Supplier_S4 <= 1 Integer\n",
      "0 <= Supplier_S5 <= 1 Integer\n",
      "\n"
     ]
    }
   ],
   "source": [
    "# Constraints\n",
    "#1 #Example: S1+S2+S3+S4+S5 = 1 \n",
    "problem += p.lpSum(suplrs[df['Supplier_ID'][i]] for i in range(df['Supplier_ID'].count())) == 1\n",
    "print(problem)"
   ]
  },
  {
   "cell_type": "code",
   "execution_count": 11,
   "metadata": {},
   "outputs": [
    {
     "name": "stdout",
     "output_type": "stream",
     "text": [
      "SupplierSelection:\n",
      "MINIMIZE\n",
      "4500*Supplier_S1 + 5000*Supplier_S2 + 4300*Supplier_S3 + 4600*Supplier_S4 + 4650*Supplier_S5 + 0\n",
      "SUBJECT TO\n",
      "_C1: Supplier_S1 + Supplier_S2 + Supplier_S3 + Supplier_S4 + Supplier_S5 = 1\n",
      "\n",
      "_C2: 4500 Supplier_S1 + 5000 Supplier_S2 + 4300 Supplier_S3 + 4600 Supplier_S4\n",
      " + 4650 Supplier_S5 <= 4700\n",
      "\n",
      "VARIABLES\n",
      "0 <= Supplier_S1 <= 1 Integer\n",
      "0 <= Supplier_S2 <= 1 Integer\n",
      "0 <= Supplier_S3 <= 1 Integer\n",
      "0 <= Supplier_S4 <= 1 Integer\n",
      "0 <= Supplier_S5 <= 1 Integer\n",
      "\n"
     ]
    }
   ],
   "source": [
    "#2 # Example: 4500*S1+5000*S2+4300*S3+4600*S4+4650*S5 <= 4700\n",
    "problem += p.lpSum(suplrs[df['Supplier_ID'][i]] * df['Quoted_Price'][i] for i in range(df['Supplier_ID'].count())) <= exp_price\n",
    "print(problem)"
   ]
  },
  {
   "cell_type": "code",
   "execution_count": 12,
   "metadata": {},
   "outputs": [
    {
     "name": "stdout",
     "output_type": "stream",
     "text": [
      "SupplierSelection:\n",
      "MINIMIZE\n",
      "4500*Supplier_S1 + 5000*Supplier_S2 + 4300*Supplier_S3 + 4600*Supplier_S4 + 4650*Supplier_S5 + 0\n",
      "SUBJECT TO\n",
      "_C1: Supplier_S1 + Supplier_S2 + Supplier_S3 + Supplier_S4 + Supplier_S5 = 1\n",
      "\n",
      "_C2: 4500 Supplier_S1 + 5000 Supplier_S2 + 4300 Supplier_S3 + 4600 Supplier_S4\n",
      " + 4650 Supplier_S5 <= 4700\n",
      "\n",
      "_C3: 8 Supplier_S1 + 9 Supplier_S2 + 9 Supplier_S3 + 8 Supplier_S4\n",
      " + 10 Supplier_S5 >= 8\n",
      "\n",
      "VARIABLES\n",
      "0 <= Supplier_S1 <= 1 Integer\n",
      "0 <= Supplier_S2 <= 1 Integer\n",
      "0 <= Supplier_S3 <= 1 Integer\n",
      "0 <= Supplier_S4 <= 1 Integer\n",
      "0 <= Supplier_S5 <= 1 Integer\n",
      "\n"
     ]
    }
   ],
   "source": [
    "#3 For Quality\n",
    "problem += p.lpSum(suplrs[df['Supplier_ID'][i]] * df['Quality'][i] for i in range(df['Supplier_ID'].count())) >= exp_quality\n",
    "print(problem)"
   ]
  },
  {
   "cell_type": "code",
   "execution_count": 13,
   "metadata": {},
   "outputs": [
    {
     "name": "stdout",
     "output_type": "stream",
     "text": [
      "SupplierSelection:\n",
      "MINIMIZE\n",
      "4500*Supplier_S1 + 5000*Supplier_S2 + 4300*Supplier_S3 + 4600*Supplier_S4 + 4650*Supplier_S5 + 0\n",
      "SUBJECT TO\n",
      "_C1: Supplier_S1 + Supplier_S2 + Supplier_S3 + Supplier_S4 + Supplier_S5 = 1\n",
      "\n",
      "_C2: 4500 Supplier_S1 + 5000 Supplier_S2 + 4300 Supplier_S3 + 4600 Supplier_S4\n",
      " + 4650 Supplier_S5 <= 4700\n",
      "\n",
      "_C3: 8 Supplier_S1 + 9 Supplier_S2 + 9 Supplier_S3 + 8 Supplier_S4\n",
      " + 10 Supplier_S5 >= 8\n",
      "\n",
      "_C4: 9 Supplier_S1 + 8 Supplier_S2 + 8 Supplier_S3 + 9 Supplier_S4\n",
      " + 9 Supplier_S5 >= 9\n",
      "\n",
      "VARIABLES\n",
      "0 <= Supplier_S1 <= 1 Integer\n",
      "0 <= Supplier_S2 <= 1 Integer\n",
      "0 <= Supplier_S3 <= 1 Integer\n",
      "0 <= Supplier_S4 <= 1 Integer\n",
      "0 <= Supplier_S5 <= 1 Integer\n",
      "\n"
     ]
    }
   ],
   "source": [
    "#4 For Delivery\n",
    "problem += p.lpSum(suplrs[df['Supplier_ID'][i]] * df['Delivery'][i] for i in range(df['Supplier_ID'].count())) >= exp_delivery\n",
    "print(problem)"
   ]
  },
  {
   "cell_type": "code",
   "execution_count": 14,
   "metadata": {},
   "outputs": [
    {
     "name": "stdout",
     "output_type": "stream",
     "text": [
      "SupplierSelection:\n",
      "MINIMIZE\n",
      "4500*Supplier_S1 + 5000*Supplier_S2 + 4300*Supplier_S3 + 4600*Supplier_S4 + 4650*Supplier_S5 + 0\n",
      "SUBJECT TO\n",
      "_C1: Supplier_S1 + Supplier_S2 + Supplier_S3 + Supplier_S4 + Supplier_S5 = 1\n",
      "\n",
      "_C2: 4500 Supplier_S1 + 5000 Supplier_S2 + 4300 Supplier_S3 + 4600 Supplier_S4\n",
      " + 4650 Supplier_S5 <= 4700\n",
      "\n",
      "_C3: 8 Supplier_S1 + 9 Supplier_S2 + 9 Supplier_S3 + 8 Supplier_S4\n",
      " + 10 Supplier_S5 >= 8\n",
      "\n",
      "_C4: 9 Supplier_S1 + 8 Supplier_S2 + 8 Supplier_S3 + 9 Supplier_S4\n",
      " + 9 Supplier_S5 >= 9\n",
      "\n",
      "_C5: 8 Supplier_S1 + 10 Supplier_S2 + 9 Supplier_S3 + 8 Supplier_S4\n",
      " + 8 Supplier_S5 >= 8\n",
      "\n",
      "VARIABLES\n",
      "0 <= Supplier_S1 <= 1 Integer\n",
      "0 <= Supplier_S2 <= 1 Integer\n",
      "0 <= Supplier_S3 <= 1 Integer\n",
      "0 <= Supplier_S4 <= 1 Integer\n",
      "0 <= Supplier_S5 <= 1 Integer\n",
      "\n"
     ]
    }
   ],
   "source": [
    "#5 For Service\n",
    "problem += p.lpSum(suplrs[df['Supplier_ID'][i]] * df['Service'][i] for i in range(df['Supplier_ID'].count())) >= exp_service\n",
    "print(problem)"
   ]
  },
  {
   "cell_type": "code",
   "execution_count": 16,
   "metadata": {},
   "outputs": [
    {
     "name": "stdout",
     "output_type": "stream",
     "text": [
      "Status: Optimal\n",
      "Supplier_S1 = 1.0\n",
      "Quoted Price :  4500.0\n"
     ]
    }
   ],
   "source": [
    "# Solve problem\n",
    "problem.solve()\n",
    "\n",
    "# Print status\n",
    "print(\"Status:\", p.LpStatus[problem.status])\n",
    "\n",
    "# Print optimal values of decision variables\n",
    "for v in problem.variables():\n",
    "    if v.varValue is not None and v.varValue > 0:\n",
    "        print(v.name, \"=\", v.varValue)\n",
    "        \n",
    "print(\"Quoted Price : \", p.value(problem.objective))"
   ]
  },
  {
   "cell_type": "code",
   "execution_count": null,
   "metadata": {},
   "outputs": [],
   "source": []
  }
 ],
 "metadata": {
  "kernelspec": {
   "display_name": "Python 3",
   "language": "python",
   "name": "python3"
  },
  "language_info": {
   "codemirror_mode": {
    "name": "ipython",
    "version": 3
   },
   "file_extension": ".py",
   "mimetype": "text/x-python",
   "name": "python",
   "nbconvert_exporter": "python",
   "pygments_lexer": "ipython3",
   "version": "3.6.8"
  }
 },
 "nbformat": 4,
 "nbformat_minor": 5
}
